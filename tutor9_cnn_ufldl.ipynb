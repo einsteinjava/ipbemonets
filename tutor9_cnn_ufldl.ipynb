{
 "cells": [
  {
   "cell_type": "markdown",
   "metadata": {},
   "source": [
    "# Stanford UFLDL\n",
    "## Machine Learning Exercise - Convolutional Neural Network (CNN)\n",
    "<a href=\"http://ufldl.stanford.edu/wiki/index.php/UFLDL_Tutorial\">Wiki</a>\n",
    "<a href=\"http://ufldl.stanford.edu/tutorial/supervised/ConvolutionalNeuralNetwork\">Exercise CNN</a>\n",
    "\n",
    "In this exercise you will implement a convolutional neural network for digit classification. The architecture of the network will be a convolution and subsampling layer followed by a densely connected output layer which will feed into the softmax regression and cross entropy objective. You will use mean pooling for the subsampling layer. You will use the back-propagation algorithm to calculate the gradient with respect to the parameters of the model. Finally you will train the parameters of the network with stochastic gradient descent and momentum.\n"
   ]
  },
  {
   "cell_type": "code",
   "execution_count": 1,
   "metadata": {
    "collapsed": true
   },
   "outputs": [],
   "source": [
    "import numpy as np\n",
    "import scipy.optimize\n",
    "import scipy.io\n",
    "import matplotlib.pyplot as plt\n",
    "import time\n",
    "import datetime"
   ]
  },
  {
   "cell_type": "code",
   "execution_count": 2,
   "metadata": {
    "collapsed": false
   },
   "outputs": [],
   "source": [
    "#from cnn import cnn_convolve, cnn_pool\n",
    "#from sparse_autoencoder import initialize_parameters, sparse_autoencoder_linear_cost, feedforward_autoencoder\n",
    "#from softmax import softmax_train, softmax_predict\n",
    "#from display_network import display_color_network\n",
    "from sklearn.externals import joblib"
   ]
  },
  {
   "cell_type": "markdown",
   "metadata": {},
   "source": [
    "### Initialization\n",
    "Here we initialize some parameters used for the exercise."
   ]
  },
  {
   "cell_type": "code",
   "execution_count": 3,
   "metadata": {
    "collapsed": true
   },
   "outputs": [],
   "source": [
    "# image dimension\n",
    "image_dim = 64\n",
    "\n",
    "# number of channels (rgb, so 3)\n",
    "image_channels = 3\n",
    "\n",
    "# patch dimension\n",
    "patch_dim = 8\n",
    "\n",
    "# number of patches\n",
    "n_patches = 50000\n",
    "\n",
    "# number of input units\n",
    "visible_size = patch_dim * patch_dim * image_channels \n",
    "\n",
    "# number of output units\n",
    "output_size = visible_size  \n",
    "\n",
    "# number of hidden units\n",
    "hidden_size = 400           \n",
    "\n",
    "# epsilon for ZCA whitening\n",
    "epsilon = 0.1          \n",
    "\n",
    "# dimension of pooling region\n",
    "pool_dim = 19 "
   ]
  },
  {
   "cell_type": "markdown",
   "metadata": {},
   "source": [
    "### Train a sparse autoencoder\n",
    "Train a sparse autoencoder (with a linear decoder) to learn features from color patches. If you have completed the linear decoder execise, use the features that you have obtained from that exercise, loading them into opt_theta. Recall that we have to keep around the parameters used in whitening (i.e., the ZCA whitening matrix and the mean_patch)"
   ]
  },
  {
   "cell_type": "code",
   "execution_count": 4,
   "metadata": {
    "collapsed": false
   },
   "outputs": [],
   "source": [
    "# Loading the learned features and preprocessing matrices\n",
    "#load_data = joblib.load(\"data/STL10_features.pkl\")\n",
    "\n",
    "#opt_theta  = load_data['opt_theta']\n",
    "#zca_white  = load_data['zca_white']\n",
    "#mean_patch = load_data['mean_patch']"
   ]
  },
  {
   "cell_type": "code",
   "execution_count": null,
   "metadata": {
    "collapsed": true
   },
   "outputs": [],
   "source": []
  },
  {
   "cell_type": "code",
   "execution_count": null,
   "metadata": {
    "collapsed": true
   },
   "outputs": [],
   "source": []
  }
 ],
 "metadata": {
  "kernelspec": {
   "display_name": "Python 2",
   "language": "python",
   "name": "python2"
  },
  "language_info": {
   "codemirror_mode": {
    "name": "ipython",
    "version": 2
   },
   "file_extension": ".py",
   "mimetype": "text/x-python",
   "name": "python",
   "nbconvert_exporter": "python",
   "pygments_lexer": "ipython2",
   "version": "2.7.13"
  }
 },
 "nbformat": 4,
 "nbformat_minor": 2
}
