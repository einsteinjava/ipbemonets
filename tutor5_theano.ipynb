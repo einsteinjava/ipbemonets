{
 "cells": [
  {
   "cell_type": "markdown",
   "metadata": {
    "deletable": true,
    "editable": true
   },
   "source": [
    "# Tutorial using Theano"
   ]
  },
  {
   "cell_type": "markdown",
   "metadata": {
    "deletable": true,
    "editable": true
   },
   "source": [
    "## Basic operations"
   ]
  },
  {
   "cell_type": "code",
   "execution_count": 1,
   "metadata": {
    "collapsed": false,
    "deletable": true,
    "editable": true
   },
   "outputs": [
    {
     "name": "stdout",
     "output_type": "stream",
     "text": [
      "(x + y)\n"
     ]
    }
   ],
   "source": [
    "import numpy as np\n",
    "import theano.tensor as T\n",
    "from theano import function, pp\n",
    "\n",
    "x = T.dscalar('x')\n",
    "y = T.dscalar('y')\n",
    "z = x + y\n",
    "f = function([x,y], z)\n",
    "\n",
    "print(pp(z))"
   ]
  },
  {
   "cell_type": "code",
   "execution_count": 2,
   "metadata": {
    "collapsed": false,
    "deletable": true,
    "editable": true
   },
   "outputs": [
    {
     "name": "stdout",
     "output_type": "stream",
     "text": [
      "5.0\n"
     ]
    }
   ],
   "source": [
    "print(f(2, 3))"
   ]
  },
  {
   "cell_type": "code",
   "execution_count": 3,
   "metadata": {
    "collapsed": false,
    "deletable": true,
    "editable": true
   },
   "outputs": [
    {
     "name": "stdout",
     "output_type": "stream",
     "text": [
      "28.4\n"
     ]
    }
   ],
   "source": [
    "print(f(16.3, 12.1))"
   ]
  },
  {
   "cell_type": "code",
   "execution_count": 4,
   "metadata": {
    "collapsed": false,
    "deletable": true,
    "editable": true
   },
   "outputs": [
    {
     "data": {
      "text/plain": [
       "True"
      ]
     },
     "execution_count": 4,
     "metadata": {},
     "output_type": "execute_result"
    }
   ],
   "source": [
    "# assert\n",
    "np.allclose(f(16.3, 12.1), 28.4)"
   ]
  },
  {
   "cell_type": "code",
   "execution_count": 5,
   "metadata": {
    "collapsed": false,
    "deletable": true,
    "editable": true
   },
   "outputs": [
    {
     "name": "stdout",
     "output_type": "stream",
     "text": [
      "[[ 11.  22.]\n",
      " [ 33.  44.]]\n"
     ]
    },
    {
     "data": {
      "text/plain": [
       "numpy.ndarray"
      ]
     },
     "execution_count": 5,
     "metadata": {},
     "output_type": "execute_result"
    }
   ],
   "source": [
    "x = T.dmatrix('x')\n",
    "y = T.dmatrix('y')\n",
    "z = x + y\n",
    "f = function([x,y], z)\n",
    "\n",
    "i = f([[1,2], [3,4]], [[10,20], [30,40]])\n",
    "print(i)\n",
    "type(i)"
   ]
  },
  {
   "cell_type": "code",
   "execution_count": 6,
   "metadata": {
    "collapsed": false,
    "deletable": true,
    "editable": true
   },
   "outputs": [
    {
     "name": "stdout",
     "output_type": "stream",
     "text": [
      "[[ 11.  22.]\n",
      " [ 33.  44.]]\n"
     ]
    },
    {
     "data": {
      "text/plain": [
       "numpy.ndarray"
      ]
     },
     "execution_count": 6,
     "metadata": {},
     "output_type": "execute_result"
    }
   ],
   "source": [
    "j = f(np.array([[1,2], [3,4]]), np.array([[10,20], [30,40]]))\n",
    "print(j)\n",
    "type(j)"
   ]
  },
  {
   "cell_type": "markdown",
   "metadata": {
    "deletable": true,
    "editable": true
   },
   "source": [
    "## Theano Function"
   ]
  },
  {
   "cell_type": "code",
   "execution_count": 7,
   "metadata": {
    "collapsed": false,
    "deletable": true,
    "editable": true
   },
   "outputs": [
    {
     "name": "stdout",
     "output_type": "stream",
     "text": [
      "3.0\n",
      "3.0\n"
     ]
    }
   ],
   "source": [
    "import theano\n",
    "from theano import shared, function\n",
    "from theano import tensor as T\n",
    "\n",
    "x = T.scalar()\n",
    "y = T.scalar()\n",
    "\n",
    "f1 = function(inputs=[x, y], outputs=(x + y))\n",
    "f2 = function([x, y], x + y)\n",
    "\n",
    "print(f1(1., 2.))\n",
    "print(f2(1., 2.))"
   ]
  },
  {
   "cell_type": "markdown",
   "metadata": {
    "deletable": true,
    "editable": true
   },
   "source": [
    "## Logistic function"
   ]
  },
  {
   "cell_type": "code",
   "execution_count": 8,
   "metadata": {
    "collapsed": false,
    "deletable": true,
    "editable": true
   },
   "outputs": [
    {
     "name": "stdout",
     "output_type": "stream",
     "text": [
      "1:\n",
      "[[ 0.5         0.73105858]\n",
      " [ 0.26894142  0.11920292]]\n",
      "2:\n",
      "[[ 0.5         0.73105858]\n",
      " [ 0.26894142  0.11920292]]\n"
     ]
    }
   ],
   "source": [
    "import theano\n",
    "import theano.tensor as T\n",
    "\n",
    "x = T.dmatrix('x')\n",
    "\n",
    "s1 = 1 / (1 + T.exp(-x))\n",
    "\n",
    "f_logistic1 = theano.function([x], s1)\n",
    "print('1:')\n",
    "print(f_logistic1([[0,1],[-1,-2]]))\n",
    "\n",
    "s2 = (1 + T.tanh(x /2)) / 2\n",
    "\n",
    "f_logistic2 = theano.function([x], s2)\n",
    "print('2:')\n",
    "print(f_logistic2([[0,1], [-1,-2]]))"
   ]
  },
  {
   "cell_type": "markdown",
   "metadata": {
    "deletable": true,
    "editable": true
   },
   "source": [
    "## multicalculation"
   ]
  },
  {
   "cell_type": "code",
   "execution_count": 9,
   "metadata": {
    "collapsed": false,
    "deletable": true,
    "editable": true
   },
   "outputs": [
    {
     "name": "stdout",
     "output_type": "stream",
     "text": [
      "[array([[ 1.,  0.],\n",
      "       [-1., -2.]]),\n",
      " array([[ 1.,  0.],\n",
      "       [ 1.,  2.]]),\n",
      " array([[ 1.,  0.],\n",
      "       [ 1.,  4.]])]\n",
      "(3, 2, 2)\n"
     ]
    }
   ],
   "source": [
    "import numpy as np\n",
    "from pprint import pprint\n",
    "\n",
    "a, b = T.matrices('a','b')\n",
    "diff = a - b\n",
    "abs_diff = abs(diff)\n",
    "sqr_diff = diff ** 2\n",
    "\n",
    "f_diff = theano.function([a, b], [diff, abs_diff, sqr_diff])\n",
    "\n",
    "rst = f_diff([[1, 1], [1, 1]], [[0, 1], [2, 3]])\n",
    "\n",
    "pprint(rst)\n",
    "print(np.shape(rst))"
   ]
  },
  {
   "cell_type": "markdown",
   "metadata": {
    "deletable": true,
    "editable": true
   },
   "source": [
    "## Using Shared Variables"
   ]
  },
  {
   "cell_type": "markdown",
   "metadata": {
    "deletable": true,
    "editable": true
   },
   "source": [
    "### Function using updates"
   ]
  },
  {
   "cell_type": "code",
   "execution_count": 10,
   "metadata": {
    "collapsed": false,
    "deletable": true,
    "editable": true
   },
   "outputs": [
    {
     "name": "stdout",
     "output_type": "stream",
     "text": [
      "0:\n",
      "0\n",
      "1:\n",
      "0\n",
      "1\n",
      "2:\n",
      "1\n",
      "301\n",
      "3:\n",
      "-1\n",
      "4:\n",
      "-1\n",
      "0\n"
     ]
    }
   ],
   "source": [
    "%reset -f\n",
    "\n",
    "import theano.tensor as T\n",
    "from theano import shared, function\n",
    "s = shared(0)\n",
    "i = T.iscalar('i')\n",
    "acc = function(inputs=[i], outputs=s, updates=[(s, s+i)])\n",
    "\n",
    "print('0:')\n",
    "print(s.get_value())\n",
    "\n",
    "print('1:')\n",
    "print(acc(1))\n",
    "print(s.get_value())\n",
    "\n",
    "print('2:')\n",
    "print(acc(300))\n",
    "print(s.get_value())\n",
    "\n",
    "print('3:')\n",
    "s.set_value(-1)\n",
    "print(s.get_value())\n",
    "\n",
    "print('4:')\n",
    "print(acc(1))\n",
    "print(s.get_value())"
   ]
  },
  {
   "cell_type": "markdown",
   "metadata": {
    "deletable": true,
    "editable": true
   },
   "source": [
    "### Function using updates function"
   ]
  },
  {
   "cell_type": "code",
   "execution_count": 11,
   "metadata": {
    "collapsed": false,
    "deletable": true,
    "editable": true
   },
   "outputs": [
    {
     "name": "stdout",
     "output_type": "stream",
     "text": [
      "0\n",
      "10\n",
      "20\n",
      "30\n",
      "40\n",
      "50\n"
     ]
    }
   ],
   "source": [
    "%reset -f\n",
    "\n",
    "import theano\n",
    "from theano import shared, function\n",
    "from theano import tensor as T\n",
    "\n",
    "s = shared(0)\n",
    "i = T.iscalar('i')\n",
    "upd = [(s, s+i)]\n",
    "\n",
    "f = function([i], s, updates=upd)\n",
    "\n",
    "print(s.get_value())\n",
    "for n in range(5):\n",
    "    f(10)\n",
    "    print(s.get_value())"
   ]
  },
  {
   "cell_type": "markdown",
   "metadata": {
    "deletable": true,
    "editable": true
   },
   "source": [
    "### Function using givens"
   ]
  },
  {
   "cell_type": "code",
   "execution_count": 12,
   "metadata": {
    "collapsed": false,
    "deletable": true,
    "editable": true
   },
   "outputs": [
    {
     "name": "stdout",
     "output_type": "stream",
     "text": [
      "104.0\n",
      "208.0\n",
      "102.0\n",
      "204.0\n",
      "306.0\n",
      "408.0\n",
      "510.0\n"
     ]
    }
   ],
   "source": [
    "%reset -f\n",
    "\n",
    "import theano.tensor as T\n",
    "from theano import shared, function\n",
    "\n",
    "s0 = shared(0)\n",
    "s1 = shared(0)\n",
    "j = T.scalar('j', s1.dtype)  # s1 & j have same data type (givens)\n",
    "i = T.scalar('i')\n",
    "b = T.scalar('s0', s0.dtype) # s0 & b have save data eype (given) \n",
    "\n",
    "fn = s1 * i + s0\n",
    "\n",
    "f = function(inputs=[i, j, b], outputs=fn, givens=[(s1, j), (s0, b)])\n",
    "print(f(2, 2, 100))\n",
    "print(f(2, 4, 200))\n",
    "\n",
    "for n in range(1,6):\n",
    "    print(f(2, n, n*100))\n"
   ]
  },
  {
   "cell_type": "markdown",
   "metadata": {
    "deletable": true,
    "editable": true
   },
   "source": [
    "## Training simple"
   ]
  },
  {
   "cell_type": "code",
   "execution_count": 13,
   "metadata": {
    "collapsed": false,
    "deletable": true,
    "editable": true
   },
   "outputs": [
    {
     "name": "stdout",
     "output_type": "stream",
     "text": [
      "('type_grad:', <type 'list'>)\n",
      "('len_grad:', 1)\n",
      "[1.0, 1.0, 1.0]\n",
      "[ 0.2  0.2  0.2]\n",
      "100.0\n",
      " \n",
      "0.6\n",
      "[ 20.08  20.08  20.08]\n",
      " \n",
      "60.24\n",
      "[ 28.032  28.032  28.032]\n",
      " \n",
      "84.096\n",
      "[ 31.2128  31.2128  31.2128]\n",
      " \n",
      "93.6384\n",
      "[ 32.48512  32.48512  32.48512]\n",
      " \n",
      "97.45536\n",
      "[ 32.994048  32.994048  32.994048]\n",
      " \n",
      "98.982144\n",
      "[ 33.1976192  33.1976192  33.1976192]\n",
      " \n",
      "99.5928576\n",
      "[ 33.27904768  33.27904768  33.27904768]\n",
      " \n",
      "99.83714304\n",
      "[ 33.31161907  33.31161907  33.31161907]\n",
      " \n",
      "99.934857216\n",
      "[ 33.32464763  33.32464763  33.32464763]\n",
      " \n",
      "99.9739428864\n",
      "[ 33.32985905  33.32985905  33.32985905]\n",
      " \n"
     ]
    }
   ],
   "source": [
    "%reset -f\n",
    "\n",
    "import theano as th\n",
    "import numpy as np\n",
    "from theano import tensor as T\n",
    "\n",
    "x = T.fvector('x')   # x input\n",
    "t = T.fscalar('t')   # y target\n",
    "W = th.shared(np.asarray([0.2, 0.2, 0.2]), 'W')\n",
    "y = (x * W).sum()    # y function\n",
    "\n",
    "cost = T.sqr(t - y)\n",
    "grad = T.grad(cost=cost, wrt=[W])\n",
    "\n",
    "print('type_grad:', type(grad))\n",
    "print('len_grad:' , len(grad))\n",
    "\n",
    "W_upd = W - (0.1 * grad[0])\n",
    "upd = [(W, W_upd)]\n",
    "\n",
    "f = th.function(inputs=[x, t], outputs=y, updates=upd)\n",
    "xin = [1.0, 1.0, 1.0]\n",
    "tout = 100.0\n",
    "step = 10\n",
    "\n",
    "# Train for y = sum(x * W) =~ 100\n",
    "# with initial x = [1.0 1.0 1.0]\n",
    "# and initial W = [0.2 0.2 0.2]\n",
    "# and target out = 100.0\n",
    "print(xin)\n",
    "print(W.get_value())\n",
    "print(tout)\n",
    "print(' ')\n",
    "\n",
    "for i in range(step):\n",
    "    print(f(xin, tout))\n",
    "    print(W.get_value())\n",
    "    print(' ')"
   ]
  },
  {
   "cell_type": "markdown",
   "metadata": {
    "deletable": true,
    "editable": true
   },
   "source": [
    "## Useful Operations"
   ]
  },
  {
   "cell_type": "code",
   "execution_count": 14,
   "metadata": {
    "collapsed": false,
    "deletable": true,
    "editable": true
   },
   "outputs": [
    {
     "name": "stdout",
     "output_type": "stream",
     "text": [
      "a\n",
      "[[ 1.  2.]\n",
      " [ 3.  4.]]\n"
     ]
    }
   ],
   "source": [
    "%reset -f\n",
    "\n",
    "import theano as th\n",
    "import numpy as np\n",
    "from theano import tensor as T\n",
    "\n",
    "a = th.shared(np.asarray([[1.0,2.0], [3.0, 4.0]]), 'a')\n",
    "print(a)\n",
    "print(a.eval())"
   ]
  },
  {
   "cell_type": "code",
   "execution_count": 15,
   "metadata": {
    "collapsed": false,
    "deletable": true,
    "editable": true
   },
   "outputs": [
    {
     "name": "stdout",
     "output_type": "stream",
     "text": [
      "Elemwise{true_div,no_inplace}.0\n",
      "[[ 0.5  1. ]\n",
      " [ 1.5  2. ]]\n"
     ]
    }
   ],
   "source": [
    "# element-wise operation: + - * /\n",
    "c = ((a + a) / 4.0)\n",
    "print(c)\n",
    "print(c.eval())"
   ]
  },
  {
   "cell_type": "code",
   "execution_count": 16,
   "metadata": {
    "collapsed": false,
    "deletable": true,
    "editable": true
   },
   "outputs": [
    {
     "name": "stdout",
     "output_type": "stream",
     "text": [
      "dot.0\n",
      "[[  7.  10.]\n",
      " [ 15.  22.]]\n"
     ]
    }
   ],
   "source": [
    "# Dot product\n",
    "d = T.dot(a, a)\n",
    "print(d)\n",
    "print(d.eval())"
   ]
  },
  {
   "cell_type": "code",
   "execution_count": 17,
   "metadata": {
    "collapsed": false,
    "deletable": true,
    "editable": true
   },
   "outputs": [
    {
     "name": "stdout",
     "output_type": "stream",
     "text": [
      "sigmoid.0\n",
      "[[ 0.73105858  0.88079708]\n",
      " [ 0.95257413  0.98201379]]\n",
      "Elemwise{tanh,no_inplace}.0\n",
      "[[ 0.76159416  0.96402758]\n",
      " [ 0.99505475  0.9993293 ]]\n"
     ]
    }
   ],
   "source": [
    "# Activation functions\n",
    "s1 = T.nnet.sigmoid(a)\n",
    "print(s1)\n",
    "print(s1.eval())\n",
    "\n",
    "s2 = T.tanh(a)\n",
    "print(s2)\n",
    "print(s2.eval())"
   ]
  },
  {
   "cell_type": "code",
   "execution_count": 18,
   "metadata": {
    "collapsed": false,
    "deletable": true,
    "editable": true
   },
   "outputs": [
    {
     "name": "stdout",
     "output_type": "stream",
     "text": [
      "Softmax.0\n",
      "[[ 0.26894142  0.73105858]\n",
      " [ 0.26894142  0.73105858]]\n"
     ]
    }
   ],
   "source": [
    "# Softmax (row-wise)\n",
    "s3 = T.nnet.softmax(a)\n",
    "print(s3)\n",
    "print(s3.eval())"
   ]
  },
  {
   "cell_type": "code",
   "execution_count": 19,
   "metadata": {
    "collapsed": false,
    "deletable": true,
    "editable": true
   },
   "outputs": [
    {
     "name": "stdout",
     "output_type": "stream",
     "text": [
      "[[ 1.  2.]\n",
      " [ 3.  4.]]\n",
      "10.0\n",
      "[ 3.  7.]\n",
      "[ 4.  6.]\n"
     ]
    }
   ],
   "source": [
    "# Sum\n",
    "print(a.eval())\n",
    "\n",
    "sum1 = a.sum() \n",
    "print(sum1.eval())\n",
    "sum2 = a.sum(axis=1)\n",
    "print(sum2.eval())\n",
    "sum3 = a.sum(axis=0)\n",
    "print(sum3.eval())"
   ]
  },
  {
   "cell_type": "code",
   "execution_count": 20,
   "metadata": {
    "collapsed": false,
    "deletable": true,
    "editable": true
   },
   "outputs": [
    {
     "name": "stdout",
     "output_type": "stream",
     "text": [
      "4.0\n",
      "[ 2.  4.]\n"
     ]
    }
   ],
   "source": [
    "# Max\n",
    "max1 = a.max()\n",
    "print(max1.eval())\n",
    "max2 = a.max(axis=1)\n",
    "print(max2.eval())"
   ]
  },
  {
   "cell_type": "code",
   "execution_count": 21,
   "metadata": {
    "collapsed": false,
    "deletable": true,
    "editable": true
   },
   "outputs": [
    {
     "name": "stdout",
     "output_type": "stream",
     "text": [
      "3\n",
      "[1 1]\n"
     ]
    }
   ],
   "source": [
    "# Argmax\n",
    "amax1 = T.argmax(a)\n",
    "print(amax1.eval())\n",
    "amax2 = T.argmax(a, axis=1)\n",
    "print(amax2.eval())"
   ]
  },
  {
   "cell_type": "code",
   "execution_count": 22,
   "metadata": {
    "collapsed": false,
    "deletable": true,
    "editable": true
   },
   "outputs": [
    {
     "name": "stdout",
     "output_type": "stream",
     "text": [
      "[[ 1.  2.]\n",
      " [ 3.  4.]]\n",
      "[[ 1.  2.  3.  4.]]\n",
      "[ 1.  2.  3.  4.]\n"
     ]
    }
   ],
   "source": [
    "# Resahpe\n",
    "print(a.eval())\n",
    "shp1 = a.reshape((1,4))\n",
    "print(shp1.eval())\n",
    "shp2 = a.reshape((-1,))\n",
    "print(shp2.eval())"
   ]
  },
  {
   "cell_type": "code",
   "execution_count": 23,
   "metadata": {
    "collapsed": false,
    "deletable": true,
    "editable": true
   },
   "outputs": [
    {
     "name": "stdout",
     "output_type": "stream",
     "text": [
      "[[ 0.  0.]\n",
      " [ 0.  0.]]\n"
     ]
    }
   ],
   "source": [
    "# Zeros like, ones like\n",
    "zero = T.zeros_like(a)\n",
    "print(zero.eval())"
   ]
  },
  {
   "cell_type": "code",
   "execution_count": 24,
   "metadata": {
    "collapsed": false,
    "deletable": true,
    "editable": true
   },
   "outputs": [
    {
     "name": "stdout",
     "output_type": "stream",
     "text": [
      "[[ 1.  2.]\n",
      " [ 3.  4.]]\n",
      "[[ 1.  3.]\n",
      " [ 2.  4.]]\n",
      "[[[ 1.  2.]\n",
      "  [ 3.  4.]]]\n"
     ]
    }
   ],
   "source": [
    "# Reorder the tensor dimensions\n",
    "print(a.eval())\n",
    "c = a.dimshuffle((1,0))\n",
    "print(c.eval()) \n",
    "c = a.dimshuffle(('x',0,1))\n",
    "print(c.eval())"
   ]
  },
  {
   "cell_type": "code",
   "execution_count": 25,
   "metadata": {
    "collapsed": false,
    "deletable": true,
    "editable": true
   },
   "outputs": [
    {
     "name": "stdout",
     "output_type": "stream",
     "text": [
      "[[ 1.  2.]\n",
      " [ 3.  4.]]\n",
      "[[ 3.  4.]\n",
      " [ 3.  4.]\n",
      " [ 1.  2.]]\n"
     ]
    }
   ],
   "source": [
    "# Indexing\n",
    "print(a.eval())\n",
    "b = [1,1,0]\n",
    "c = a[b]\n",
    "print(c.eval())"
   ]
  }
 ],
 "metadata": {
  "kernelspec": {
   "display_name": "Python 2",
   "language": "python",
   "name": "python2"
  },
  "language_info": {
   "codemirror_mode": {
    "name": "ipython",
    "version": 2
   },
   "file_extension": ".py",
   "mimetype": "text/x-python",
   "name": "python",
   "nbconvert_exporter": "python",
   "pygments_lexer": "ipython2",
   "version": "2.7.13"
  }
 },
 "nbformat": 4,
 "nbformat_minor": 2
}
