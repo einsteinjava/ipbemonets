{
 "cells": [
  {
   "cell_type": "markdown",
   "metadata": {},
   "source": [
    "# <i>Supervised Learning</i> \n",
    "\n",
    "# Tutorial Linear Regresion\n",
    "\n",
    "As a refresher, we will start by learning how to implement linear regression. The main idea is to get familiar with objective functions, computing their gradients and optimizing the objectives over a set of parameters. These basic tools will form the basis for more sophisticated algorithms later. Readers that want additional details may refer to the <a href=\"http://cs229.stanford.edu/notes/cs229-notes1.pdf\">Stanford CS229 Notes</a> on Supervised Learning for more.\n",
    "\n",
    "To perform supervised learning, we must decide how we’re going to represent functions/hypotheses $h$ in a computer. As an initial choice, let’s say we decide to approximate $y$ as a linear function of $x$:\n",
    "\n",
    "$$h_\\theta(x) = \\theta_0+\\theta_1x_1+\\theta_2x_2$$\n",
    "\n",
    "Here, the $\\theta_i$ are the parameters (also called weights) parameterizing the space of linear functions mapping from\n",
    "$X$ to $Y$. To simplify our notation, we also introduce the convention of letting $x_0 = 1$ (this is the intercept term).\n",
    "\n",
    "\n",
    "\n",
    "Our goal is to find a function $y=h(x)$ so that we have $y^{(i)} \\approx h(x^{(i)})$ for each training example. To find a function $h(x)$ where $y^{(i)} \\approx h(x^{(i)})$ we must first decide how to represent the function $h(x)$. To start out we will use linear functions:\n",
    "\n",
    "$$h_\\theta(x) = \\sum_j^n \\theta_j x_j = \\theta^\\top x$$\n",
    "\n",
    "Where on the right-hand side above we are viewing $\\theta$ and $x$ both as vectors, and here $n$ is the number of input variables/features (not counting $x_0$). Here, $h_\\theta(x)$ represents a large family of functions parametrized by the choice of $\\theta$. (We call this space of functions a “hypothesis class”.) With this representation for $h$, our task is to find a choice of $\\theta$ so that $h(x^{(i)})$ is as close as possible to $y(i)$. In particular, we will search for a choice of $\\theta$ that minimizes:\n",
    "$$\n",
    "J(\\theta) = \\frac{1}{2} \\sum_i^m \\left( h_\\theta(x^{(i)}) - y^{(i)} \\right)^2 = \\frac{1}{2} \\sum_i^m \\left( \\theta^\\top x^{(i)} - y^{(i)} \\right)^2\n",
    "$$\n",
    "\n",
    "The index $m$ is number data (instance) and this function is the <b>\"cost function\"</b> for our problem, which measures how much error is incurred in predicting $y^{(i)}$ for a particular choice of $\\theta$. This may also be called a \"loss\", \"penalty\" or \"objective\" function.\n",
    "\n",
    "There are many algorithms for minimizing functions like this one and we will describe some very effective ones that are easy to implement. Let’s consider the <b>Gradient Descent</b> algorithm, which starts with some initial $\\theta$, and repeatedly performs the update:\n",
    "$$\n",
    "\\theta_j:=\\theta_j - \\alpha \\frac{\\partial }{\\partial \\theta_j} J(\\theta)\n",
    "$$\n",
    "(This update is simultaneously performed for all values of $j = 0, . . . , n$.). Here, $\\alpha$ is called the learning rate. This is a very natural algorithm that repeatedly takes a step in the direction of steepest decrease of $J$.\n",
    "Differentiating the cost function $J(θ)$ as given above with respect to a particular parameter $\\theta_j$ gives us:\n",
    "$$\n",
    "\\frac{\\partial J(\\theta)}{\\partial \\theta_j} = \\sum_i x^{(i)}_j \\left(h_\\theta(x^{(i)}) - y^{(i)}\\right)\n",
    "$$"
   ]
  },
  {
   "cell_type": "markdown",
   "metadata": {},
   "source": [
    "## Demo Linear Regresion"
   ]
  },
  {
   "cell_type": "code",
   "execution_count": 1,
   "metadata": {
    "collapsed": true
   },
   "outputs": [],
   "source": [
    "import theano as th\n",
    "import numpy as np\n",
    "import matplotlib.pyplot as plt\n",
    "from theano import tensor as T"
   ]
  },
  {
   "cell_type": "code",
   "execution_count": 2,
   "metadata": {
    "collapsed": true
   },
   "outputs": [],
   "source": [
    "# Generate xdata input\n",
    "xdata = np.linspace(-1, 1, 101)\n",
    "\n",
    "# likes: y = mx + c  \n",
    "# Generate ydata output\n",
    "ydata = 5 * xdata + np.random.randn(*xdata.shape) * 0.33"
   ]
  },
  {
   "cell_type": "code",
   "execution_count": 3,
   "metadata": {
    "collapsed": false
   },
   "outputs": [
    {
     "data": {
      "image/png": "[encoded data removed]",
      "text/plain": [
       "<matplotlib.figure.Figure at 0x7f17ca72b210>"
      ]
     },
     "metadata": {},
     "output_type": "display_data"
    }
   ],
   "source": [
    "# Show/Plot generated data ydata by xdata\n",
    "plt.plot(xdata, ydata, '.')\n",
    "plt.ylabel('y data')\n",
    "plt.xlabel('x data')\n",
    "plt.show()"
   ]
  },
  {
   "cell_type": "code",
   "execution_count": 18,
   "metadata": {
    "collapsed": false
   },
   "outputs": [],
   "source": [
    "# Initialize theano variables\n",
    "\n",
    "# learning rate\n",
    "alph = 0.01\n",
    "\n",
    "# X, Y input as scalar\n",
    "x = T.dscalar()\n",
    "y = T.dscalar()\n",
    "\n",
    "# w shared var as float \n",
    "# w is a gradient in cartesian quadrant base on above plot\n",
    "w = th.shared(0., name='w')\n",
    "\n",
    "# Prediction function as a linear function, y = m*x, w as m (slope), y predicted\n",
    "f_pred = x * w\n",
    "\n",
    "# square error function\n",
    "f_err = T.sqr(f_pred - y)\n",
    "\n",
    "# Cost function as a mean of all square (quadrat) error data / J(theta)\n",
    "f_cost = T.mean(f_err)\n",
    "\n",
    "# Compute Gradient of cost w (theta)\n",
    "gw = T.grad(cost=f_cost, wrt=w)\n",
    "\n",
    "f_upd = [[w, w - (alph * gw)]]\n"
   ]
  },
  {
   "cell_type": "code",
   "execution_count": 19,
   "metadata": {
    "collapsed": true
   },
   "outputs": [],
   "source": [
    "# Compile the training function\n",
    "\n",
    "f_train = th.function(inputs=[x, y], outputs=[f_pred, f_err], updates=f_upd)"
   ]
  },
  {
   "cell_type": "code",
   "execution_count": 20,
   "metadata": {
    "collapsed": false
   },
   "outputs": [
    {
     "name": "stdout",
     "output_type": "stream",
     "text": [
      "w before train: 0.000000 \n"
     ]
    }
   ],
   "source": [
    "# W before train\n",
    "print('w before train: %f ' % w.get_value())"
   ]
  },
  {
   "cell_type": "code",
   "execution_count": 53,
   "metadata": {
    "collapsed": false
   },
   "outputs": [
    {
     "name": "stdout",
     "output_type": "stream",
     "text": [
      "(99, '4.69', '4.87', '0.0312')\n"
     ]
    }
   ],
   "source": [
    "# Training Process\n",
    "epoch = 100\n",
    "for i in range(epoch):\n",
    "    for x_, y_ in zip(xdata, ydata):\n",
    "        pred, err = f_train(x_, y_)\n",
    "\n",
    "print(i, '%.2f'%y_ , '%.2f'%pred, '%.4f'%err)"
   ]
  },
  {
   "cell_type": "code",
   "execution_count": 8,
   "metadata": {
    "collapsed": false
   },
   "outputs": [
    {
     "name": "stdout",
     "output_type": "stream",
     "text": [
      "w after train: 4.865888 \n"
     ]
    }
   ],
   "source": [
    "# W after train, W is something around 5 as a mention in ydata equation.\n",
    "print('w after train: %f ' % w.get_value())"
   ]
  },
  {
   "cell_type": "code",
   "execution_count": 14,
   "metadata": {
    "collapsed": false
   },
   "outputs": [
    {
     "name": "stdout",
     "output_type": "stream",
     "text": [
      "Predicted: for xtest = 0.500000 then ypred = 2.432944 \n"
     ]
    }
   ],
   "source": [
    "# Predict y from xtest using W value have got from training\n",
    "xtest = 0.5\n",
    "ypred = xtest * w\n",
    "print(\"Predicted: for xtest = %f then ypred = %f \" % (xtest, float(ypred.eval())))"
   ]
  }
 ],
 "metadata": {
  "kernelspec": {
   "display_name": "Python 2",
   "language": "python",
   "name": "python2"
  },
  "language_info": {
   "codemirror_mode": {
    "name": "ipython",
    "version": 2
   },
   "file_extension": ".py",
   "mimetype": "text/x-python",
   "name": "python",
   "nbconvert_exporter": "python",
   "pygments_lexer": "ipython2",
   "version": "2.7.13"
  }
 },
 "nbformat": 4,
 "nbformat_minor": 2
}
