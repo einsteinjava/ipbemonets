{
 "cells": [
  {
   "cell_type": "markdown",
   "metadata": {},
   "source": [
    "# Tutorial Linear Regresion"
   ]
  },
  {
   "cell_type": "code",
   "execution_count": 1,
   "metadata": {
    "collapsed": true
   },
   "outputs": [],
   "source": [
    "import theano\n",
    "from theano import tensor as T\n",
    "import numpy as np\n",
    "import matplotlib.pyplot as plt"
   ]
  },
  {
   "cell_type": "code",
   "execution_count": 2,
   "metadata": {
    "collapsed": true
   },
   "outputs": [],
   "source": [
    "# Generate xdata input\n",
    "xdata = np.linspace(-1, 1, 101)\n",
    "# likes: y = mx + c  Generate ydata output\n",
    "ydata = 5 * xdata + np.random.randn(*xdata.shape) * 0.33"
   ]
  },
  {
   "cell_type": "code",
   "execution_count": 4,
   "metadata": {
    "collapsed": false
   },
   "outputs": [
    {
     "data": {
      "image/png": "[encoded data removed]",
      "text/plain": [
       "<matplotlib.figure.Figure at 0x7efce4b065d0>"
      ]
     },
     "metadata": {},
     "output_type": "display_data"
    }
   ],
   "source": [
    "# Show/Plot generated data ydata by xdata\n",
    "plt.plot(xdata, ydata, '.')\n",
    "plt.ylabel('y data')\n",
    "plt.xlabel('x data')\n",
    "plt.show()"
   ]
  },
  {
   "cell_type": "code",
   "execution_count": 11,
   "metadata": {
    "collapsed": true
   },
   "outputs": [],
   "source": [
    "# Initialize theano variables\n",
    "learnrt = 0.01\n",
    "\n",
    "# X, Y input as scalar\n",
    "X = T.scalar()\n",
    "Y = T.scalar()\n",
    "\n",
    "# W shared var as 0D array of float \n",
    "# W is a gradient in cartesian quadrant base on above plot\n",
    "W = theano.shared(np.asarray(0., dtype=theano.config.floatX))\n",
    "\n",
    "# y function as a linear function, y = m*x\n",
    "y = X * W\n",
    "\n",
    "# Cost fucntion as a mean of all square error data\n",
    "cost = T.mean(T.sqr(y - Y))\n",
    "\n",
    "\n",
    "'''\n",
    "T.grad?\n",
    "Signature: T.grad(cost, wrt, consider_constant=None, disconnected_inputs='raise', add_names=True, \n",
    "                  known_grads=None, return_disconnected='zero', null_gradients='raise')\n",
    "Docstring: Return symbolic gradients for one or more variables with respect to some cost.\n",
    "cost     : Scalar (0-dimensional) tensor variable or None Value with respect to which we are differentiating.\n",
    "           May be  `None` if known_grads is provided.\n",
    "wrt      : variable or list of variables term[s] for which we want gradients\n",
    "'''\n",
    "grd = T.grad(cost=cost, wrt=W)\n",
    "\n",
    "upd = [[W, W - grd * learnrt]]\n",
    "\n",
    "f_train = theano.function(inputs=[X, Y], outputs=cost, updates=upd, allow_input_downcast=True)"
   ]
  },
  {
   "cell_type": "code",
   "execution_count": 12,
   "metadata": {
    "collapsed": false
   },
   "outputs": [
    {
     "name": "stdout",
     "output_type": "stream",
     "text": [
      "W before train: 0.000000 \n"
     ]
    }
   ],
   "source": [
    "# W before train\n",
    "print('W before train: %f ' % W.get_value())"
   ]
  },
  {
   "cell_type": "code",
   "execution_count": 13,
   "metadata": {
    "collapsed": true
   },
   "outputs": [],
   "source": [
    "# Training\n",
    "epoch = 100\n",
    "for i in range(epoch):\n",
    "    for x, y in zip(xdata, ydata):\n",
    "        f_train(x, y)"
   ]
  },
  {
   "cell_type": "code",
   "execution_count": 14,
   "metadata": {
    "collapsed": false
   },
   "outputs": [
    {
     "name": "stdout",
     "output_type": "stream",
     "text": [
      "W after train: 4.968543 \n"
     ]
    }
   ],
   "source": [
    "# W after train        \n",
    "print('W after train: %f ' % W.get_value()) #something around 5"
   ]
  },
  {
   "cell_type": "code",
   "execution_count": 17,
   "metadata": {
    "collapsed": false
   },
   "outputs": [
    {
     "name": "stdout",
     "output_type": "stream",
     "text": [
      "Predicted: ypred = 0 if xtest = 2 \n"
     ]
    }
   ],
   "source": [
    "# Predict\n",
    "xtest = 0.5\n",
    "ypred = xtest * W\n",
    "print(\"Predicted: ypred = %d if xtest = %d \" % (xtest, float(ypred.eval())))"
   ]
  }
 ],
 "metadata": {
  "kernelspec": {
   "display_name": "Python 2",
   "language": "python",
   "name": "python2"
  },
  "language_info": {
   "codemirror_mode": {
    "name": "ipython",
    "version": 2
   },
   "file_extension": ".py",
   "mimetype": "text/x-python",
   "name": "python",
   "nbconvert_exporter": "python",
   "pygments_lexer": "ipython2",
   "version": "2.7.13"
  }
 },
 "nbformat": 4,
 "nbformat_minor": 2
}
